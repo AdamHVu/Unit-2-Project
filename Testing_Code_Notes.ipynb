{
  "nbformat": 4,
  "nbformat_minor": 0,
  "metadata": {
    "colab": {
      "name": "Testing Code Notes.ipynb",
      "provenance": []
    },
    "kernelspec": {
      "name": "python3",
      "display_name": "Python 3"
    },
    "language_info": {
      "name": "python"
    }
  },
  "cells": [
    {
      "cell_type": "code",
      "metadata": {
        "id": "_GSLpb8-lNCz"
      },
      "source": [
        "#If the notebook is being checked over, please give any advice, changes, suggestions, etc\n",
        "#as to what I can do, add, or modify to filter this better\n",
        "\n",
        "#Link to the notebook: https://colab.research.google.com/drive/12IMDKfhKrTYu3WQLstDeuz6pwCehLqj_?usp=sharing"
      ],
      "execution_count": null,
      "outputs": []
    },
    {
      "cell_type": "code",
      "metadata": {
        "id": "HZSMxW_oG9wQ"
      },
      "source": [
        "#Kaggle Link: https://www.kaggle.com/jboysen/global-food-prices"
      ],
      "execution_count": null,
      "outputs": []
    },
    {
      "cell_type": "code",
      "metadata": {
        "id": "161QxHd9NL2j"
      },
      "source": [
        "#Medium Link: https://medium.com/@adamvu1087/global-food-price-predictions-e2bd9fb130fa"
      ],
      "execution_count": 56,
      "outputs": []
    },
    {
      "cell_type": "code",
      "metadata": {
        "id": "wU7D2VM4hHXG"
      },
      "source": [
        "%%capture\n",
        "import sys\n",
        "\n",
        "# If you're on Colab:\n",
        "if 'google.colab' in sys.modules:\n",
        "    DATA_PATH = 'https://raw.githubusercontent.com/LambdaSchool/DS-Unit-2-Kaggle-Challenge/main/data/'\n",
        "    !pip install category_encoders==2.*\n",
        "    !pip install pandas-profiling==2.*\n",
        "    !pip install pdpbox\n",
        "    !pip install shap\n",
        "# If you're working locally:\n",
        "else:\n",
        "    DATA_PATH = '../data/'"
      ],
      "execution_count": null,
      "outputs": []
    },
    {
      "cell_type": "code",
      "metadata": {
        "colab": {
          "base_uri": "https://localhost:8080/"
        },
        "id": "fS-c-c1mf9Cb",
        "outputId": "ae84a689-fbb7-4404-f1d0-9dcd8aaf33b2"
      },
      "source": [
        "from google.colab import drive\n",
        "drive.mount('/content/drive')\n"
      ],
      "execution_count": null,
      "outputs": [
        {
          "output_type": "stream",
          "name": "stdout",
          "text": [
            "Mounted at /content/drive\n"
          ]
        }
      ]
    },
    {
      "cell_type": "code",
      "metadata": {
        "id": "FkGMKSWxgaHE",
        "colab": {
          "base_uri": "https://localhost:8080/"
        },
        "outputId": "af8ec04f-c220-4312-f7b4-bfaeb25ad172"
      },
      "source": [
        "%cd /content/drive/MyDrive/Colab\\ Notebooks/Kaggle"
      ],
      "execution_count": null,
      "outputs": [
        {
          "output_type": "stream",
          "name": "stdout",
          "text": [
            "/content/drive/MyDrive/Colab Notebooks/Kaggle\n"
          ]
        }
      ]
    },
    {
      "cell_type": "code",
      "metadata": {
        "id": "4UoyFKgjg-PR",
        "colab": {
          "base_uri": "https://localhost:8080/"
        },
        "outputId": "7b532a44-adc4-4f7c-ee4d-5808bc3d00dc"
      },
      "source": [
        "%ls"
      ],
      "execution_count": null,
      "outputs": [
        {
          "output_type": "stream",
          "name": "stdout",
          "text": [
            "2021-11-03_2237_AV_GS_Kaggle.csv  country_region.csv\n",
            "2021-11-04_0230_AV_GS_Kaggle.csv  test_features.csv\n",
            "Adam_Vu_Submission.csv            train_features.csv\n",
            "AV_RandomForest1_Submission.csv   train_labels.csv\n",
            "AV_RandomForest_Submission.csv    wfp_market_food_prices.csv\n"
          ]
        }
      ]
    },
    {
      "cell_type": "code",
      "metadata": {
        "id": "nhrG2ij2hCbX",
        "colab": {
          "base_uri": "https://localhost:8080/"
        },
        "outputId": "b2109dd0-c9ba-4acc-e051-3001256a92b5"
      },
      "source": [
        "#Import Respective Libraries and Any Extras if Needed\n",
        "from category_encoders import OrdinalEncoder\n",
        "from sklearn.ensemble import RandomForestClassifier\n",
        "from sklearn.model_selection import train_test_split\n",
        "from sklearn.metrics import accuracy_score\n",
        "from sklearn.impute import SimpleImputer\n",
        "from sklearn.model_selection import cross_val_score, validation_curve # k-fold CV\n",
        "from sklearn.model_selection import GridSearchCV, RandomizedSearchCV # Hyperparameter tuning\n",
        "from sklearn.pipeline import make_pipeline\n",
        "from sklearn.tree import DecisionTreeClassifier\n",
        "from sklearn.preprocessing import OneHotEncoder\n",
        "import numpy as np\n",
        "import pandas as pd\n",
        "import matplotlib.pyplot as plt\n",
        "import seaborn as sns"
      ],
      "execution_count": null,
      "outputs": [
        {
          "output_type": "stream",
          "name": "stderr",
          "text": [
            "/usr/local/lib/python3.7/dist-packages/statsmodels/tools/_testing.py:19: FutureWarning: pandas.util.testing is deprecated. Use the functions in the public API at pandas.testing instead.\n",
            "  import pandas.util.testing as tm\n"
          ]
        }
      ]
    },
    {
      "cell_type": "code",
      "metadata": {
        "colab": {
          "base_uri": "https://localhost:8080/",
          "height": 595
        },
        "id": "u6W9r-SfJQGU",
        "outputId": "68538f46-3d6a-4bdf-80e2-5343a92cfb7e"
      },
      "source": [
        " #Loading the CSV First before Wrangling\n",
        " df = pd.read_csv('wfp_market_food_prices.csv', encoding='latin-1', index_col='adm0_id')\n",
        " df"
      ],
      "execution_count": null,
      "outputs": [
        {
          "output_type": "execute_result",
          "data": {
            "text/html": [
              "<div>\n",
              "<style scoped>\n",
              "    .dataframe tbody tr th:only-of-type {\n",
              "        vertical-align: middle;\n",
              "    }\n",
              "\n",
              "    .dataframe tbody tr th {\n",
              "        vertical-align: top;\n",
              "    }\n",
              "\n",
              "    .dataframe thead th {\n",
              "        text-align: right;\n",
              "    }\n",
              "</style>\n",
              "<table border=\"1\" class=\"dataframe\">\n",
              "  <thead>\n",
              "    <tr style=\"text-align: right;\">\n",
              "      <th></th>\n",
              "      <th>adm0_name</th>\n",
              "      <th>adm1_id</th>\n",
              "      <th>adm1_name</th>\n",
              "      <th>mkt_id</th>\n",
              "      <th>mkt_name</th>\n",
              "      <th>cm_id</th>\n",
              "      <th>cm_name</th>\n",
              "      <th>cur_id</th>\n",
              "      <th>cur_name</th>\n",
              "      <th>pt_id</th>\n",
              "      <th>pt_name</th>\n",
              "      <th>um_id</th>\n",
              "      <th>um_name</th>\n",
              "      <th>mp_month</th>\n",
              "      <th>mp_year</th>\n",
              "      <th>mp_price</th>\n",
              "      <th>mp_commoditysource</th>\n",
              "    </tr>\n",
              "    <tr>\n",
              "      <th>adm0_id</th>\n",
              "      <th></th>\n",
              "      <th></th>\n",
              "      <th></th>\n",
              "      <th></th>\n",
              "      <th></th>\n",
              "      <th></th>\n",
              "      <th></th>\n",
              "      <th></th>\n",
              "      <th></th>\n",
              "      <th></th>\n",
              "      <th></th>\n",
              "      <th></th>\n",
              "      <th></th>\n",
              "      <th></th>\n",
              "      <th></th>\n",
              "      <th></th>\n",
              "      <th></th>\n",
              "    </tr>\n",
              "  </thead>\n",
              "  <tbody>\n",
              "    <tr>\n",
              "      <th>1</th>\n",
              "      <td>Afghanistan</td>\n",
              "      <td>272</td>\n",
              "      <td>Badakhshan</td>\n",
              "      <td>266</td>\n",
              "      <td>Fayzabad</td>\n",
              "      <td>55</td>\n",
              "      <td>Bread</td>\n",
              "      <td>87</td>\n",
              "      <td>AFN</td>\n",
              "      <td>15</td>\n",
              "      <td>Retail</td>\n",
              "      <td>5</td>\n",
              "      <td>KG</td>\n",
              "      <td>1</td>\n",
              "      <td>2014</td>\n",
              "      <td>50.0</td>\n",
              "      <td>WFP</td>\n",
              "    </tr>\n",
              "    <tr>\n",
              "      <th>1</th>\n",
              "      <td>Afghanistan</td>\n",
              "      <td>272</td>\n",
              "      <td>Badakhshan</td>\n",
              "      <td>266</td>\n",
              "      <td>Fayzabad</td>\n",
              "      <td>55</td>\n",
              "      <td>Bread</td>\n",
              "      <td>87</td>\n",
              "      <td>AFN</td>\n",
              "      <td>15</td>\n",
              "      <td>Retail</td>\n",
              "      <td>5</td>\n",
              "      <td>KG</td>\n",
              "      <td>2</td>\n",
              "      <td>2014</td>\n",
              "      <td>50.0</td>\n",
              "      <td>WFP</td>\n",
              "    </tr>\n",
              "    <tr>\n",
              "      <th>1</th>\n",
              "      <td>Afghanistan</td>\n",
              "      <td>272</td>\n",
              "      <td>Badakhshan</td>\n",
              "      <td>266</td>\n",
              "      <td>Fayzabad</td>\n",
              "      <td>55</td>\n",
              "      <td>Bread</td>\n",
              "      <td>87</td>\n",
              "      <td>AFN</td>\n",
              "      <td>15</td>\n",
              "      <td>Retail</td>\n",
              "      <td>5</td>\n",
              "      <td>KG</td>\n",
              "      <td>3</td>\n",
              "      <td>2014</td>\n",
              "      <td>50.0</td>\n",
              "      <td>WFP</td>\n",
              "    </tr>\n",
              "    <tr>\n",
              "      <th>1</th>\n",
              "      <td>Afghanistan</td>\n",
              "      <td>272</td>\n",
              "      <td>Badakhshan</td>\n",
              "      <td>266</td>\n",
              "      <td>Fayzabad</td>\n",
              "      <td>55</td>\n",
              "      <td>Bread</td>\n",
              "      <td>87</td>\n",
              "      <td>AFN</td>\n",
              "      <td>15</td>\n",
              "      <td>Retail</td>\n",
              "      <td>5</td>\n",
              "      <td>KG</td>\n",
              "      <td>4</td>\n",
              "      <td>2014</td>\n",
              "      <td>50.0</td>\n",
              "      <td>WFP</td>\n",
              "    </tr>\n",
              "    <tr>\n",
              "      <th>1</th>\n",
              "      <td>Afghanistan</td>\n",
              "      <td>272</td>\n",
              "      <td>Badakhshan</td>\n",
              "      <td>266</td>\n",
              "      <td>Fayzabad</td>\n",
              "      <td>55</td>\n",
              "      <td>Bread</td>\n",
              "      <td>87</td>\n",
              "      <td>AFN</td>\n",
              "      <td>15</td>\n",
              "      <td>Retail</td>\n",
              "      <td>5</td>\n",
              "      <td>KG</td>\n",
              "      <td>5</td>\n",
              "      <td>2014</td>\n",
              "      <td>50.0</td>\n",
              "      <td>WFP</td>\n",
              "    </tr>\n",
              "    <tr>\n",
              "      <th>...</th>\n",
              "      <td>...</td>\n",
              "      <td>...</td>\n",
              "      <td>...</td>\n",
              "      <td>...</td>\n",
              "      <td>...</td>\n",
              "      <td>...</td>\n",
              "      <td>...</td>\n",
              "      <td>...</td>\n",
              "      <td>...</td>\n",
              "      <td>...</td>\n",
              "      <td>...</td>\n",
              "      <td>...</td>\n",
              "      <td>...</td>\n",
              "      <td>...</td>\n",
              "      <td>...</td>\n",
              "      <td>...</td>\n",
              "      <td>...</td>\n",
              "    </tr>\n",
              "    <tr>\n",
              "      <th>70001</th>\n",
              "      <td>South Sudan</td>\n",
              "      <td>2750</td>\n",
              "      <td>Eastern Equatoria</td>\n",
              "      <td>1786</td>\n",
              "      <td>Torit</td>\n",
              "      <td>156</td>\n",
              "      <td>Sesame</td>\n",
              "      <td>83</td>\n",
              "      <td>SSP</td>\n",
              "      <td>15</td>\n",
              "      <td>Retail</td>\n",
              "      <td>47</td>\n",
              "      <td>3.5 KG</td>\n",
              "      <td>5</td>\n",
              "      <td>2017</td>\n",
              "      <td>400.0</td>\n",
              "      <td>WFP</td>\n",
              "    </tr>\n",
              "    <tr>\n",
              "      <th>70001</th>\n",
              "      <td>South Sudan</td>\n",
              "      <td>2750</td>\n",
              "      <td>Eastern Equatoria</td>\n",
              "      <td>1786</td>\n",
              "      <td>Torit</td>\n",
              "      <td>284</td>\n",
              "      <td>Fuel (diesel)</td>\n",
              "      <td>83</td>\n",
              "      <td>SSP</td>\n",
              "      <td>15</td>\n",
              "      <td>Retail</td>\n",
              "      <td>15</td>\n",
              "      <td>L</td>\n",
              "      <td>2</td>\n",
              "      <td>2017</td>\n",
              "      <td>12.5</td>\n",
              "      <td>WFP</td>\n",
              "    </tr>\n",
              "    <tr>\n",
              "      <th>70001</th>\n",
              "      <td>South Sudan</td>\n",
              "      <td>2750</td>\n",
              "      <td>Eastern Equatoria</td>\n",
              "      <td>1786</td>\n",
              "      <td>Torit</td>\n",
              "      <td>284</td>\n",
              "      <td>Fuel (diesel)</td>\n",
              "      <td>83</td>\n",
              "      <td>SSP</td>\n",
              "      <td>15</td>\n",
              "      <td>Retail</td>\n",
              "      <td>15</td>\n",
              "      <td>L</td>\n",
              "      <td>3</td>\n",
              "      <td>2017</td>\n",
              "      <td>95.0</td>\n",
              "      <td>WFP</td>\n",
              "    </tr>\n",
              "    <tr>\n",
              "      <th>70001</th>\n",
              "      <td>South Sudan</td>\n",
              "      <td>2750</td>\n",
              "      <td>Eastern Equatoria</td>\n",
              "      <td>1786</td>\n",
              "      <td>Torit</td>\n",
              "      <td>285</td>\n",
              "      <td>Fuel (petrol-gasoline)</td>\n",
              "      <td>83</td>\n",
              "      <td>SSP</td>\n",
              "      <td>15</td>\n",
              "      <td>Retail</td>\n",
              "      <td>15</td>\n",
              "      <td>L</td>\n",
              "      <td>2</td>\n",
              "      <td>2017</td>\n",
              "      <td>95.0</td>\n",
              "      <td>WFP</td>\n",
              "    </tr>\n",
              "    <tr>\n",
              "      <th>70001</th>\n",
              "      <td>South Sudan</td>\n",
              "      <td>2750</td>\n",
              "      <td>Eastern Equatoria</td>\n",
              "      <td>1786</td>\n",
              "      <td>Torit</td>\n",
              "      <td>285</td>\n",
              "      <td>Fuel (petrol-gasoline)</td>\n",
              "      <td>83</td>\n",
              "      <td>SSP</td>\n",
              "      <td>15</td>\n",
              "      <td>Retail</td>\n",
              "      <td>15</td>\n",
              "      <td>L</td>\n",
              "      <td>3</td>\n",
              "      <td>2017</td>\n",
              "      <td>93.7</td>\n",
              "      <td>WFP</td>\n",
              "    </tr>\n",
              "  </tbody>\n",
              "</table>\n",
              "<p>743914 rows × 17 columns</p>\n",
              "</div>"
            ],
            "text/plain": [
              "           adm0_name  adm1_id  ... mp_price  mp_commoditysource\n",
              "adm0_id                        ...                             \n",
              "1        Afghanistan      272  ...     50.0                 WFP\n",
              "1        Afghanistan      272  ...     50.0                 WFP\n",
              "1        Afghanistan      272  ...     50.0                 WFP\n",
              "1        Afghanistan      272  ...     50.0                 WFP\n",
              "1        Afghanistan      272  ...     50.0                 WFP\n",
              "...              ...      ...  ...      ...                 ...\n",
              "70001    South Sudan     2750  ...    400.0                 WFP\n",
              "70001    South Sudan     2750  ...     12.5                 WFP\n",
              "70001    South Sudan     2750  ...     95.0                 WFP\n",
              "70001    South Sudan     2750  ...     95.0                 WFP\n",
              "70001    South Sudan     2750  ...     93.7                 WFP\n",
              "\n",
              "[743914 rows x 17 columns]"
            ]
          },
          "metadata": {},
          "execution_count": 10
        }
      ]
    },
    {
      "cell_type": "code",
      "metadata": {
        "id": "lfal_rxojwF5"
      },
      "source": [
        "#Wrangling to Provide better efficiency and cleanliness \n",
        "def wrangle(filepath):\n",
        "    df = pd.read_csv('wfp_market_food_prices.csv', encoding='latin-1', index_col='adm0_id')\n",
        "    df.drop(columns=['cur_id', 'cur_name', 'pt_id', 'pt_name', 'mp_commoditysource', \n",
        "                     'um_id', 'adm1_name','um_name', 'mkt_id', 'adm1_id', 'cm_id'], inplace=True)\n",
        "    df = df.merge(countrylist, left_on='adm0_name', right_on='Country')\n",
        "    monthchange = {1: 'January', 2: 'February', 3: 'March', 4: 'April', 5: 'June', 6: 'July',\n",
        "                   7: 'July', 8: 'August', 9: 'September', 10: 'October', 11:'November', 12:'December'}\n",
        "    df.replace({'mp_month': monthchange}, inplace=True)\n",
        "\n",
        "    return df "
      ],
      "execution_count": null,
      "outputs": []
    },
    {
      "cell_type": "code",
      "metadata": {
        "id": "DQfKnzV8K3qu",
        "colab": {
          "base_uri": "https://localhost:8080/",
          "height": 422
        },
        "outputId": "9b68bcb0-8a13-424c-97b2-e70218f676cf"
      },
      "source": [
        "#Other Dataset Used for Merging\n",
        "countrylist = pd.read_csv('country_region.csv')\n",
        "\n",
        "countrylist.sort_values(by=' Region')\n",
        "\n"
      ],
      "execution_count": null,
      "outputs": [
        {
          "output_type": "execute_result",
          "data": {
            "text/html": [
              "<div>\n",
              "<style scoped>\n",
              "    .dataframe tbody tr th:only-of-type {\n",
              "        vertical-align: middle;\n",
              "    }\n",
              "\n",
              "    .dataframe tbody tr th {\n",
              "        vertical-align: top;\n",
              "    }\n",
              "\n",
              "    .dataframe thead th {\n",
              "        text-align: right;\n",
              "    }\n",
              "</style>\n",
              "<table border=\"1\" class=\"dataframe\">\n",
              "  <thead>\n",
              "    <tr style=\"text-align: right;\">\n",
              "      <th></th>\n",
              "      <th>Country</th>\n",
              "      <th>Region</th>\n",
              "    </tr>\n",
              "  </thead>\n",
              "  <tbody>\n",
              "    <tr>\n",
              "      <th>39</th>\n",
              "      <td>Congo</td>\n",
              "      <td>Africa</td>\n",
              "    </tr>\n",
              "    <tr>\n",
              "      <th>146</th>\n",
              "      <td>Mauritius</td>\n",
              "      <td>Africa</td>\n",
              "    </tr>\n",
              "    <tr>\n",
              "      <th>38</th>\n",
              "      <td>Central African Republic</td>\n",
              "      <td>Africa</td>\n",
              "    </tr>\n",
              "    <tr>\n",
              "      <th>78</th>\n",
              "      <td>Ghana</td>\n",
              "      <td>Africa</td>\n",
              "    </tr>\n",
              "    <tr>\n",
              "      <th>41</th>\n",
              "      <td>Côte D'Ivoire</td>\n",
              "      <td>Africa</td>\n",
              "    </tr>\n",
              "    <tr>\n",
              "      <th>...</th>\n",
              "      <td>...</td>\n",
              "      <td>...</td>\n",
              "    </tr>\n",
              "    <tr>\n",
              "      <th>83</th>\n",
              "      <td>Guadeloupe</td>\n",
              "      <td>South/Latin America</td>\n",
              "    </tr>\n",
              "    <tr>\n",
              "      <th>199</th>\n",
              "      <td>Suriname</td>\n",
              "      <td>South/Latin America</td>\n",
              "    </tr>\n",
              "    <tr>\n",
              "      <th>37</th>\n",
              "      <td>Congo</td>\n",
              "      <td>The Democratic Republic of the</td>\n",
              "    </tr>\n",
              "    <tr>\n",
              "      <th>230</th>\n",
              "      <td>Virgin Islands</td>\n",
              "      <td>U.S.</td>\n",
              "    </tr>\n",
              "    <tr>\n",
              "      <th>219</th>\n",
              "      <td>Tanzania</td>\n",
              "      <td>United Republic of</td>\n",
              "    </tr>\n",
              "  </tbody>\n",
              "</table>\n",
              "<p>248 rows × 2 columns</p>\n",
              "</div>"
            ],
            "text/plain": [
              "                      Country                           Region\n",
              "39                      Congo                           Africa\n",
              "146                 Mauritius                           Africa\n",
              "38   Central African Republic                           Africa\n",
              "78                      Ghana                           Africa\n",
              "41              Côte D'Ivoire                           Africa\n",
              "..                        ...                              ...\n",
              "83                 Guadeloupe              South/Latin America\n",
              "199                  Suriname              South/Latin America\n",
              "37                      Congo   The Democratic Republic of the\n",
              "230            Virgin Islands                             U.S.\n",
              "219                  Tanzania               United Republic of\n",
              "\n",
              "[248 rows x 2 columns]"
            ]
          },
          "metadata": {},
          "execution_count": 12
        }
      ]
    },
    {
      "cell_type": "code",
      "metadata": {
        "id": "Ha0b36XmYz1y",
        "colab": {
          "base_uri": "https://localhost:8080/",
          "height": 595
        },
        "outputId": "f36b0e00-9813-4a6e-aa33-03479e15a6f3"
      },
      "source": [
        "#The Wrangled Dataframe\n",
        "df = wrangle(df)\n",
        "df"
      ],
      "execution_count": null,
      "outputs": [
        {
          "output_type": "execute_result",
          "data": {
            "text/html": [
              "<div>\n",
              "<style scoped>\n",
              "    .dataframe tbody tr th:only-of-type {\n",
              "        vertical-align: middle;\n",
              "    }\n",
              "\n",
              "    .dataframe tbody tr th {\n",
              "        vertical-align: top;\n",
              "    }\n",
              "\n",
              "    .dataframe thead th {\n",
              "        text-align: right;\n",
              "    }\n",
              "</style>\n",
              "<table border=\"1\" class=\"dataframe\">\n",
              "  <thead>\n",
              "    <tr style=\"text-align: right;\">\n",
              "      <th></th>\n",
              "      <th>adm0_name</th>\n",
              "      <th>mkt_name</th>\n",
              "      <th>cm_name</th>\n",
              "      <th>mp_month</th>\n",
              "      <th>mp_year</th>\n",
              "      <th>mp_price</th>\n",
              "      <th>Country</th>\n",
              "      <th>Region</th>\n",
              "    </tr>\n",
              "  </thead>\n",
              "  <tbody>\n",
              "    <tr>\n",
              "      <th>0</th>\n",
              "      <td>Afghanistan</td>\n",
              "      <td>Fayzabad</td>\n",
              "      <td>Bread</td>\n",
              "      <td>January</td>\n",
              "      <td>2014</td>\n",
              "      <td>50.0</td>\n",
              "      <td>Afghanistan</td>\n",
              "      <td>Asia &amp; Pacific</td>\n",
              "    </tr>\n",
              "    <tr>\n",
              "      <th>1</th>\n",
              "      <td>Afghanistan</td>\n",
              "      <td>Fayzabad</td>\n",
              "      <td>Bread</td>\n",
              "      <td>February</td>\n",
              "      <td>2014</td>\n",
              "      <td>50.0</td>\n",
              "      <td>Afghanistan</td>\n",
              "      <td>Asia &amp; Pacific</td>\n",
              "    </tr>\n",
              "    <tr>\n",
              "      <th>2</th>\n",
              "      <td>Afghanistan</td>\n",
              "      <td>Fayzabad</td>\n",
              "      <td>Bread</td>\n",
              "      <td>March</td>\n",
              "      <td>2014</td>\n",
              "      <td>50.0</td>\n",
              "      <td>Afghanistan</td>\n",
              "      <td>Asia &amp; Pacific</td>\n",
              "    </tr>\n",
              "    <tr>\n",
              "      <th>3</th>\n",
              "      <td>Afghanistan</td>\n",
              "      <td>Fayzabad</td>\n",
              "      <td>Bread</td>\n",
              "      <td>April</td>\n",
              "      <td>2014</td>\n",
              "      <td>50.0</td>\n",
              "      <td>Afghanistan</td>\n",
              "      <td>Asia &amp; Pacific</td>\n",
              "    </tr>\n",
              "    <tr>\n",
              "      <th>4</th>\n",
              "      <td>Afghanistan</td>\n",
              "      <td>Fayzabad</td>\n",
              "      <td>Bread</td>\n",
              "      <td>June</td>\n",
              "      <td>2014</td>\n",
              "      <td>50.0</td>\n",
              "      <td>Afghanistan</td>\n",
              "      <td>Asia &amp; Pacific</td>\n",
              "    </tr>\n",
              "    <tr>\n",
              "      <th>...</th>\n",
              "      <td>...</td>\n",
              "      <td>...</td>\n",
              "      <td>...</td>\n",
              "      <td>...</td>\n",
              "      <td>...</td>\n",
              "      <td>...</td>\n",
              "      <td>...</td>\n",
              "      <td>...</td>\n",
              "    </tr>\n",
              "    <tr>\n",
              "      <th>697977</th>\n",
              "      <td>South Sudan</td>\n",
              "      <td>Torit</td>\n",
              "      <td>Sesame</td>\n",
              "      <td>June</td>\n",
              "      <td>2017</td>\n",
              "      <td>400.0</td>\n",
              "      <td>South Sudan</td>\n",
              "      <td>Africa</td>\n",
              "    </tr>\n",
              "    <tr>\n",
              "      <th>697978</th>\n",
              "      <td>South Sudan</td>\n",
              "      <td>Torit</td>\n",
              "      <td>Fuel (diesel)</td>\n",
              "      <td>February</td>\n",
              "      <td>2017</td>\n",
              "      <td>12.5</td>\n",
              "      <td>South Sudan</td>\n",
              "      <td>Africa</td>\n",
              "    </tr>\n",
              "    <tr>\n",
              "      <th>697979</th>\n",
              "      <td>South Sudan</td>\n",
              "      <td>Torit</td>\n",
              "      <td>Fuel (diesel)</td>\n",
              "      <td>March</td>\n",
              "      <td>2017</td>\n",
              "      <td>95.0</td>\n",
              "      <td>South Sudan</td>\n",
              "      <td>Africa</td>\n",
              "    </tr>\n",
              "    <tr>\n",
              "      <th>697980</th>\n",
              "      <td>South Sudan</td>\n",
              "      <td>Torit</td>\n",
              "      <td>Fuel (petrol-gasoline)</td>\n",
              "      <td>February</td>\n",
              "      <td>2017</td>\n",
              "      <td>95.0</td>\n",
              "      <td>South Sudan</td>\n",
              "      <td>Africa</td>\n",
              "    </tr>\n",
              "    <tr>\n",
              "      <th>697981</th>\n",
              "      <td>South Sudan</td>\n",
              "      <td>Torit</td>\n",
              "      <td>Fuel (petrol-gasoline)</td>\n",
              "      <td>March</td>\n",
              "      <td>2017</td>\n",
              "      <td>93.7</td>\n",
              "      <td>South Sudan</td>\n",
              "      <td>Africa</td>\n",
              "    </tr>\n",
              "  </tbody>\n",
              "</table>\n",
              "<p>697982 rows × 8 columns</p>\n",
              "</div>"
            ],
            "text/plain": [
              "          adm0_name  mkt_name  ...      Country           Region\n",
              "0       Afghanistan  Fayzabad  ...  Afghanistan   Asia & Pacific\n",
              "1       Afghanistan  Fayzabad  ...  Afghanistan   Asia & Pacific\n",
              "2       Afghanistan  Fayzabad  ...  Afghanistan   Asia & Pacific\n",
              "3       Afghanistan  Fayzabad  ...  Afghanistan   Asia & Pacific\n",
              "4       Afghanistan  Fayzabad  ...  Afghanistan   Asia & Pacific\n",
              "...             ...       ...  ...          ...              ...\n",
              "697977  South Sudan     Torit  ...  South Sudan           Africa\n",
              "697978  South Sudan     Torit  ...  South Sudan           Africa\n",
              "697979  South Sudan     Torit  ...  South Sudan           Africa\n",
              "697980  South Sudan     Torit  ...  South Sudan           Africa\n",
              "697981  South Sudan     Torit  ...  South Sudan           Africa\n",
              "\n",
              "[697982 rows x 8 columns]"
            ]
          },
          "metadata": {},
          "execution_count": 17
        }
      ]
    },
    {
      "cell_type": "code",
      "metadata": {
        "id": "o4gCVqVBU5F8",
        "colab": {
          "base_uri": "https://localhost:8080/",
          "height": 422
        },
        "outputId": "253d6818-e1a8-41d3-b327-3b712ec3ccbd"
      },
      "source": [
        "#Applying the Filter\n",
        "df[['adm0_name', 'Country']]"
      ],
      "execution_count": null,
      "outputs": [
        {
          "output_type": "execute_result",
          "data": {
            "text/html": [
              "<div>\n",
              "<style scoped>\n",
              "    .dataframe tbody tr th:only-of-type {\n",
              "        vertical-align: middle;\n",
              "    }\n",
              "\n",
              "    .dataframe tbody tr th {\n",
              "        vertical-align: top;\n",
              "    }\n",
              "\n",
              "    .dataframe thead th {\n",
              "        text-align: right;\n",
              "    }\n",
              "</style>\n",
              "<table border=\"1\" class=\"dataframe\">\n",
              "  <thead>\n",
              "    <tr style=\"text-align: right;\">\n",
              "      <th></th>\n",
              "      <th>adm0_name</th>\n",
              "      <th>Country</th>\n",
              "    </tr>\n",
              "  </thead>\n",
              "  <tbody>\n",
              "    <tr>\n",
              "      <th>0</th>\n",
              "      <td>Afghanistan</td>\n",
              "      <td>Afghanistan</td>\n",
              "    </tr>\n",
              "    <tr>\n",
              "      <th>1</th>\n",
              "      <td>Afghanistan</td>\n",
              "      <td>Afghanistan</td>\n",
              "    </tr>\n",
              "    <tr>\n",
              "      <th>2</th>\n",
              "      <td>Afghanistan</td>\n",
              "      <td>Afghanistan</td>\n",
              "    </tr>\n",
              "    <tr>\n",
              "      <th>3</th>\n",
              "      <td>Afghanistan</td>\n",
              "      <td>Afghanistan</td>\n",
              "    </tr>\n",
              "    <tr>\n",
              "      <th>4</th>\n",
              "      <td>Afghanistan</td>\n",
              "      <td>Afghanistan</td>\n",
              "    </tr>\n",
              "    <tr>\n",
              "      <th>...</th>\n",
              "      <td>...</td>\n",
              "      <td>...</td>\n",
              "    </tr>\n",
              "    <tr>\n",
              "      <th>697977</th>\n",
              "      <td>South Sudan</td>\n",
              "      <td>South Sudan</td>\n",
              "    </tr>\n",
              "    <tr>\n",
              "      <th>697978</th>\n",
              "      <td>South Sudan</td>\n",
              "      <td>South Sudan</td>\n",
              "    </tr>\n",
              "    <tr>\n",
              "      <th>697979</th>\n",
              "      <td>South Sudan</td>\n",
              "      <td>South Sudan</td>\n",
              "    </tr>\n",
              "    <tr>\n",
              "      <th>697980</th>\n",
              "      <td>South Sudan</td>\n",
              "      <td>South Sudan</td>\n",
              "    </tr>\n",
              "    <tr>\n",
              "      <th>697981</th>\n",
              "      <td>South Sudan</td>\n",
              "      <td>South Sudan</td>\n",
              "    </tr>\n",
              "  </tbody>\n",
              "</table>\n",
              "<p>697982 rows × 2 columns</p>\n",
              "</div>"
            ],
            "text/plain": [
              "          adm0_name      Country\n",
              "0       Afghanistan  Afghanistan\n",
              "1       Afghanistan  Afghanistan\n",
              "2       Afghanistan  Afghanistan\n",
              "3       Afghanistan  Afghanistan\n",
              "4       Afghanistan  Afghanistan\n",
              "...             ...          ...\n",
              "697977  South Sudan  South Sudan\n",
              "697978  South Sudan  South Sudan\n",
              "697979  South Sudan  South Sudan\n",
              "697980  South Sudan  South Sudan\n",
              "697981  South Sudan  South Sudan\n",
              "\n",
              "[697982 rows x 2 columns]"
            ]
          },
          "metadata": {},
          "execution_count": 19
        }
      ]
    },
    {
      "cell_type": "code",
      "metadata": {
        "id": "3iUVDbl56Dxg",
        "colab": {
          "base_uri": "https://localhost:8080/"
        },
        "outputId": "26217e40-2538-4755-e2ef-0a88708fbefc"
      },
      "source": [
        "df.columns\n",
        "\n",
        "#While I do have quite a few columns albeit most are not really predictable persay,\n",
        "#I think the column I can best predict would be mp_price. Considering that mp_price,\n",
        "#is a constantly changing value, it is only natural for it to be a regression problem.\n",
        "#"
      ],
      "execution_count": null,
      "outputs": [
        {
          "output_type": "execute_result",
          "data": {
            "text/plain": [
              "Index(['adm0_name', 'mkt_name', 'cm_name', 'mp_month', 'mp_year', 'mp_price',\n",
              "       'Country', ' Region'],\n",
              "      dtype='object')"
            ]
          },
          "metadata": {},
          "execution_count": 20
        }
      ]
    },
    {
      "cell_type": "code",
      "metadata": {
        "id": "NkYTnraTI7tP",
        "colab": {
          "base_uri": "https://localhost:8080/"
        },
        "outputId": "c4ee1243-f889-481c-9663-22d6f91ed4ae"
      },
      "source": [
        "#Checking names to see if this is a good method\n",
        "df['adm0_name'].unique()"
      ],
      "execution_count": null,
      "outputs": [
        {
          "output_type": "execute_result",
          "data": {
            "text/plain": [
              "array(['Afghanistan', 'Algeria', 'Armenia', 'Azerbaijan', 'Bangladesh',\n",
              "       'Benin', 'Bhutan', 'Bolivia', 'Burkina Faso', 'Burundi',\n",
              "       'Cambodia', 'Cameroon', 'Cape Verde', 'Central African Republic',\n",
              "       'Chad', 'Colombia', 'Congo', 'Costa Rica', 'Djibouti',\n",
              "       'El Salvador', 'Ethiopia', 'Gambia', 'Georgia', 'Ghana',\n",
              "       'Guatemala', 'Guinea-Bissau', 'Guinea', 'Haiti', 'Honduras',\n",
              "       'India', 'Indonesia', 'Iraq', 'Jordan', 'Kenya', 'Kyrgyzstan',\n",
              "       \"Lao People's Democratic Republic\", 'Lebanon', 'Lesotho',\n",
              "       'Liberia', 'Madagascar', 'Malawi', 'Mali', 'Mauritania',\n",
              "       'Mozambique', 'Myanmar', 'Nepal', 'Niger', 'Nigeria', 'Pakistan',\n",
              "       'Panama', 'Peru', 'Philippines', 'Rwanda', 'Senegal', 'Somalia',\n",
              "       'Sri Lanka', 'Swaziland', 'Syrian Arab Republic', 'Tajikistan',\n",
              "       'Timor-Leste', 'Turkey', 'Uganda', 'Ukraine', 'Yemen', 'Zambia',\n",
              "       'Zimbabwe', 'Sudan', 'Egypt', 'South Sudan'], dtype=object)"
            ]
          },
          "metadata": {},
          "execution_count": 21
        }
      ]
    },
    {
      "cell_type": "code",
      "metadata": {
        "id": "54mjGRn5ngqC",
        "colab": {
          "base_uri": "https://localhost:8080/"
        },
        "outputId": "863ff22e-6445-4efa-e32b-f0e21b6bdf52"
      },
      "source": [
        "#Picking a region from the list that has a reasonable amount of entries\n",
        "df[' Region'].unique()"
      ],
      "execution_count": null,
      "outputs": [
        {
          "output_type": "execute_result",
          "data": {
            "text/plain": [
              "array([' Asia & Pacific', ' Arab States', ' Europe', ' Africa',\n",
              "       ' South/Latin America', ' The Democratic Republic of the',\n",
              "       ' Middle east'], dtype=object)"
            ]
          },
          "metadata": {},
          "execution_count": 22
        }
      ]
    },
    {
      "cell_type": "code",
      "metadata": {
        "id": "yIzCNsIWnkoI",
        "colab": {
          "base_uri": "https://localhost:8080/",
          "height": 422
        },
        "outputId": "cf29681c-1cb8-4c79-f205-6eeadd7c2bd7"
      },
      "source": [
        "#Making a subset of the Data as to not overload the model\n",
        "Europe = df.loc[(df[' Region'] == ' Europe')]\n",
        "\n",
        "Europe"
      ],
      "execution_count": null,
      "outputs": [
        {
          "output_type": "execute_result",
          "data": {
            "text/html": [
              "<div>\n",
              "<style scoped>\n",
              "    .dataframe tbody tr th:only-of-type {\n",
              "        vertical-align: middle;\n",
              "    }\n",
              "\n",
              "    .dataframe tbody tr th {\n",
              "        vertical-align: top;\n",
              "    }\n",
              "\n",
              "    .dataframe thead th {\n",
              "        text-align: right;\n",
              "    }\n",
              "</style>\n",
              "<table border=\"1\" class=\"dataframe\">\n",
              "  <thead>\n",
              "    <tr style=\"text-align: right;\">\n",
              "      <th></th>\n",
              "      <th>adm0_name</th>\n",
              "      <th>mkt_name</th>\n",
              "      <th>cm_name</th>\n",
              "      <th>mp_month</th>\n",
              "      <th>mp_year</th>\n",
              "      <th>mp_price</th>\n",
              "      <th>Country</th>\n",
              "      <th>Region</th>\n",
              "    </tr>\n",
              "  </thead>\n",
              "  <tbody>\n",
              "    <tr>\n",
              "      <th>6460</th>\n",
              "      <td>Armenia</td>\n",
              "      <td>Yerevan</td>\n",
              "      <td>Wheat flour</td>\n",
              "      <td>April</td>\n",
              "      <td>2011</td>\n",
              "      <td>300.0000</td>\n",
              "      <td>Armenia</td>\n",
              "      <td>Europe</td>\n",
              "    </tr>\n",
              "    <tr>\n",
              "      <th>6461</th>\n",
              "      <td>Armenia</td>\n",
              "      <td>Yerevan</td>\n",
              "      <td>Wheat flour</td>\n",
              "      <td>June</td>\n",
              "      <td>2011</td>\n",
              "      <td>270.0000</td>\n",
              "      <td>Armenia</td>\n",
              "      <td>Europe</td>\n",
              "    </tr>\n",
              "    <tr>\n",
              "      <th>6462</th>\n",
              "      <td>Armenia</td>\n",
              "      <td>Yerevan</td>\n",
              "      <td>Wheat flour</td>\n",
              "      <td>July</td>\n",
              "      <td>2011</td>\n",
              "      <td>270.0000</td>\n",
              "      <td>Armenia</td>\n",
              "      <td>Europe</td>\n",
              "    </tr>\n",
              "    <tr>\n",
              "      <th>6463</th>\n",
              "      <td>Armenia</td>\n",
              "      <td>Yerevan</td>\n",
              "      <td>Wheat flour</td>\n",
              "      <td>July</td>\n",
              "      <td>2011</td>\n",
              "      <td>270.0000</td>\n",
              "      <td>Armenia</td>\n",
              "      <td>Europe</td>\n",
              "    </tr>\n",
              "    <tr>\n",
              "      <th>6464</th>\n",
              "      <td>Armenia</td>\n",
              "      <td>Yerevan</td>\n",
              "      <td>Wheat flour</td>\n",
              "      <td>August</td>\n",
              "      <td>2011</td>\n",
              "      <td>270.0000</td>\n",
              "      <td>Armenia</td>\n",
              "      <td>Europe</td>\n",
              "    </tr>\n",
              "    <tr>\n",
              "      <th>...</th>\n",
              "      <td>...</td>\n",
              "      <td>...</td>\n",
              "      <td>...</td>\n",
              "      <td>...</td>\n",
              "      <td>...</td>\n",
              "      <td>...</td>\n",
              "      <td>...</td>\n",
              "      <td>...</td>\n",
              "    </tr>\n",
              "    <tr>\n",
              "      <th>649742</th>\n",
              "      <td>Ukraine</td>\n",
              "      <td>Kiev</td>\n",
              "      <td>Fat (salo)</td>\n",
              "      <td>February</td>\n",
              "      <td>2017</td>\n",
              "      <td>39.8700</td>\n",
              "      <td>Ukraine</td>\n",
              "      <td>Europe</td>\n",
              "    </tr>\n",
              "    <tr>\n",
              "      <th>649743</th>\n",
              "      <td>Ukraine</td>\n",
              "      <td>Kiev</td>\n",
              "      <td>Fat (salo)</td>\n",
              "      <td>March</td>\n",
              "      <td>2017</td>\n",
              "      <td>39.8700</td>\n",
              "      <td>Ukraine</td>\n",
              "      <td>Europe</td>\n",
              "    </tr>\n",
              "    <tr>\n",
              "      <th>649744</th>\n",
              "      <td>Ukraine</td>\n",
              "      <td>Kiev</td>\n",
              "      <td>Fat (salo)</td>\n",
              "      <td>April</td>\n",
              "      <td>2017</td>\n",
              "      <td>39.8700</td>\n",
              "      <td>Ukraine</td>\n",
              "      <td>Europe</td>\n",
              "    </tr>\n",
              "    <tr>\n",
              "      <th>649745</th>\n",
              "      <td>Ukraine</td>\n",
              "      <td>Kiev</td>\n",
              "      <td>Fat (salo)</td>\n",
              "      <td>June</td>\n",
              "      <td>2017</td>\n",
              "      <td>39.8700</td>\n",
              "      <td>Ukraine</td>\n",
              "      <td>Europe</td>\n",
              "    </tr>\n",
              "    <tr>\n",
              "      <th>649746</th>\n",
              "      <td>Ukraine</td>\n",
              "      <td>Kiev</td>\n",
              "      <td>Fat (salo)</td>\n",
              "      <td>July</td>\n",
              "      <td>2017</td>\n",
              "      <td>42.5633</td>\n",
              "      <td>Ukraine</td>\n",
              "      <td>Europe</td>\n",
              "    </tr>\n",
              "  </tbody>\n",
              "</table>\n",
              "<p>33490 rows × 8 columns</p>\n",
              "</div>"
            ],
            "text/plain": [
              "       adm0_name mkt_name      cm_name  ...  mp_price  Country   Region\n",
              "6460     Armenia  Yerevan  Wheat flour  ...  300.0000  Armenia   Europe\n",
              "6461     Armenia  Yerevan  Wheat flour  ...  270.0000  Armenia   Europe\n",
              "6462     Armenia  Yerevan  Wheat flour  ...  270.0000  Armenia   Europe\n",
              "6463     Armenia  Yerevan  Wheat flour  ...  270.0000  Armenia   Europe\n",
              "6464     Armenia  Yerevan  Wheat flour  ...  270.0000  Armenia   Europe\n",
              "...          ...      ...          ...  ...       ...      ...      ...\n",
              "649742   Ukraine     Kiev   Fat (salo)  ...   39.8700  Ukraine   Europe\n",
              "649743   Ukraine     Kiev   Fat (salo)  ...   39.8700  Ukraine   Europe\n",
              "649744   Ukraine     Kiev   Fat (salo)  ...   39.8700  Ukraine   Europe\n",
              "649745   Ukraine     Kiev   Fat (salo)  ...   39.8700  Ukraine   Europe\n",
              "649746   Ukraine     Kiev   Fat (salo)  ...   42.5633  Ukraine   Europe\n",
              "\n",
              "[33490 rows x 8 columns]"
            ]
          },
          "metadata": {},
          "execution_count": 23
        }
      ]
    },
    {
      "cell_type": "code",
      "metadata": {
        "id": "ziU0WcvRvGYm",
        "colab": {
          "base_uri": "https://localhost:8080/",
          "height": 283
        },
        "outputId": "d249cc7d-2dda-41b0-a8a0-33c97b9ee3e0"
      },
      "source": [
        "plt.scatter(Europe['mp_year'], Europe['mp_price'])"
      ],
      "execution_count": null,
      "outputs": [
        {
          "output_type": "execute_result",
          "data": {
            "text/plain": [
              "<matplotlib.collections.PathCollection at 0x7fd7a08ea990>"
            ]
          },
          "metadata": {},
          "execution_count": 24
        },
        {
          "output_type": "display_data",
          "data": {
            "image/png": "[encoded data removed]",
            "text/plain": [
              "<Figure size 432x288 with 1 Axes>"
            ]
          },
          "metadata": {
            "needs_background": "light"
          }
        }
      ]
    },
    {
      "cell_type": "code",
      "metadata": {
        "id": "Zcyo-f4Gwxdx"
      },
      "source": [
        "#Choosing my X and y\n",
        "target = 'mp_price'\n",
        "X = Europe.drop(columns=target)\n",
        "y = Europe[target]"
      ],
      "execution_count": null,
      "outputs": []
    },
    {
      "cell_type": "code",
      "metadata": {
        "id": "5UvDNHHT5EDX"
      },
      "source": [
        "#Splitting the Data\n",
        "X_train, X_test, y_train, y_test = train_test_split(X,y,test_size =0.2, random_state=42)"
      ],
      "execution_count": null,
      "outputs": []
    },
    {
      "cell_type": "code",
      "metadata": {
        "id": "YyDMu1qFNrJX",
        "colab": {
          "base_uri": "https://localhost:8080/"
        },
        "outputId": "dfec8ac5-3279-4953-d146-13ff18d6bace"
      },
      "source": [
        "#Establishing a Baseline\n",
        "from sklearn.metrics import mean_absolute_error\n",
        "\n",
        "baseline_pred = [y_test.mean()] * len(y_test)\n",
        "\n",
        "mean_absolute_error(y_test, baseline_pred)"
      ],
      "execution_count": null,
      "outputs": [
        {
          "output_type": "execute_result",
          "data": {
            "text/plain": [
              "226.9778398994199"
            ]
          },
          "metadata": {},
          "execution_count": 24
        }
      ]
    },
    {
      "cell_type": "code",
      "metadata": {
        "colab": {
          "base_uri": "https://localhost:8080/"
        },
        "id": "AIgsfyHkoY_s",
        "outputId": "b260266d-5102-4d22-98d3-aace3dd1c0fc"
      },
      "source": [
        "# Building First Model\n",
        "from sklearn.linear_model import LinearRegression\n",
        "enc = OneHotEncoder(sparse=False)\n",
        "X_transform = enc.fit_transform(X)\n",
        "model_lr = LinearRegression()\n",
        "model_lr.fit(X_transform, y)"
      ],
      "execution_count": null,
      "outputs": [
        {
          "output_type": "execute_result",
          "data": {
            "text/plain": [
              "LinearRegression()"
            ]
          },
          "metadata": {},
          "execution_count": 34
        }
      ]
    },
    {
      "cell_type": "code",
      "metadata": {
        "id": "kZ1R_zCd0yfH"
      },
      "source": [
        "y_pred_lr = model_lr.predict(X_transform)"
      ],
      "execution_count": null,
      "outputs": []
    },
    {
      "cell_type": "code",
      "metadata": {
        "colab": {
          "base_uri": "https://localhost:8080/"
        },
        "id": "lcAK1CKg1I-x",
        "outputId": "3d532f69-4dfd-44f8-9de0-bde1679eca5b"
      },
      "source": [
        "from sklearn.metrics import mean_absolute_error\n",
        "mean_absolute_error(y, y_pred_lr)"
      ],
      "execution_count": null,
      "outputs": [
        {
          "output_type": "execute_result",
          "data": {
            "text/plain": [
              "110.85367283069574"
            ]
          },
          "metadata": {},
          "execution_count": 38
        }
      ]
    },
    {
      "cell_type": "code",
      "metadata": {
        "id": "BXlb_n1bRZRK",
        "colab": {
          "base_uri": "https://localhost:8080/"
        },
        "outputId": "3e05f9a0-746f-4fbe-e393-43d6bcff7af2"
      },
      "source": [
        "#Building my Second Model\n",
        "from sklearn.ensemble import RandomForestRegressor\n",
        "model_rf = make_pipeline(\n",
        "    OneHotEncoder(),\n",
        "    SimpleImputer(strategy='mean'),\n",
        "    RandomForestRegressor(random_state=42, n_jobs=-1)\n",
        ")\n",
        "\n",
        "model_rf.fit(X_train,y_train)"
      ],
      "execution_count": null,
      "outputs": [
        {
          "output_type": "execute_result",
          "data": {
            "text/plain": [
              "Pipeline(steps=[('onehotencoder', OneHotEncoder()),\n",
              "                ('simpleimputer', SimpleImputer()),\n",
              "                ('randomforestregressor',\n",
              "                 RandomForestRegressor(n_jobs=-1, random_state=42))])"
            ]
          },
          "metadata": {},
          "execution_count": 29
        }
      ]
    },
    {
      "cell_type": "code",
      "metadata": {
        "id": "Tc_hluY44uG-",
        "colab": {
          "base_uri": "https://localhost:8080/"
        },
        "outputId": "ade6615b-cb69-47a9-b704-fb2e931cc2dc"
      },
      "source": [
        "print(\"Training Accuracy - Random Forest\", mean_absolute_error(y_train, model_rf.predict(X_train)))\n",
        "print(\"Validation Accuracy - Random Forest\", mean_absolute_error(y_test, model_rf.predict(X_test)))"
      ],
      "execution_count": null,
      "outputs": [
        {
          "output_type": "stream",
          "name": "stdout",
          "text": [
            "Training Accuracy - Random Forest 4.036683288269523\n",
            "Validation Accuracy - Random Forest 9.982991823785\n"
          ]
        }
      ]
    },
    {
      "cell_type": "code",
      "metadata": {
        "id": "THZSJxfH1CHX"
      },
      "source": [
        "#Building Final Model\n",
        "from sklearn.ensemble import GradientBoostingClassifier\n",
        "from xgboost import XGBRegressor\n",
        "\n",
        "model_xgb = make_pipeline(\n",
        "    OrdinalEncoder(),\n",
        "    SimpleImputer(strategy='mean'),\n",
        "    XGBRegressor(random_state=42, n_estimators=75, n_jobs=-1)\n",
        ")\n",
        "\n",
        "model_xgb.fit(X_train, y_train)"
      ],
      "execution_count": null,
      "outputs": []
    },
    {
      "cell_type": "code",
      "metadata": {
        "colab": {
          "base_uri": "https://localhost:8080/"
        },
        "id": "At6UqF_8Cf-3",
        "outputId": "4d5a7098-bdf2-436c-a5fe-042f78996336"
      },
      "source": [
        "print(mean_absolute_error(y_train, model_xgb.predict(X_train)))\n",
        "print(mean_absolute_error(y_test, model_xgb.predict(X_test)))"
      ],
      "execution_count": null,
      "outputs": [
        {
          "output_type": "stream",
          "name": "stdout",
          "text": [
            "47.37237495534446\n",
            "46.70640667321839\n"
          ]
        }
      ]
    },
    {
      "cell_type": "code",
      "metadata": {
        "id": "eHG4fP9xOMUm",
        "colab": {
          "base_uri": "https://localhost:8080/"
        },
        "outputId": "b42e11cd-190c-4654-bb79-ea66e64aec88"
      },
      "source": [
        "print('validation accuracy', model_xgb.score(X_test,y_test))"
      ],
      "execution_count": null,
      "outputs": [
        {
          "output_type": "stream",
          "name": "stdout",
          "text": [
            "validation accuracy 0.9361507421120437\n"
          ]
        }
      ]
    },
    {
      "cell_type": "code",
      "metadata": {
        "id": "zJktfkkGeGda"
      },
      "source": [
        "#Code to prep for importances\n",
        "col = 'mp_year'\n",
        "X_test_perm = X_test.copy()\n",
        "X_test_perm[col] = np.random.permutation(X_test_perm[col])"
      ],
      "execution_count": null,
      "outputs": []
    },
    {
      "cell_type": "code",
      "metadata": {
        "id": "RkdD07SDenyb"
      },
      "source": [
        "from sklearn.inspection import permutation_importance \n",
        "perm_importance = permutation_importance(model_xgb, X_test, y_test, random_state=42)\n",
        "\n",
        "perm_importance"
      ],
      "execution_count": null,
      "outputs": []
    },
    {
      "cell_type": "code",
      "metadata": {
        "id": "UGbIw-LsWRzL",
        "colab": {
          "base_uri": "https://localhost:8080/",
          "height": 297
        },
        "outputId": "708e9f56-745e-40c6-f860-879b67527610"
      },
      "source": [
        "#finding gini importances\n",
        "importances = model_xgb.named_steps['xgbregressor'].feature_importances_\n",
        "feature_names = X_train.columns\n",
        "feat_imp = pd.Series(data=importances, index=feature_names).sort_values()\n",
        "feat_imp.tail(10).plot(kind='barh')\n",
        "plt.xlabel('Gini Importance')\n",
        "plt.ylabel('Feature')"
      ],
      "execution_count": null,
      "outputs": [
        {
          "output_type": "execute_result",
          "data": {
            "text/plain": [
              "Text(0, 0.5, 'Feature')"
            ]
          },
          "metadata": {},
          "execution_count": 35
        },
        {
          "output_type": "display_data",
          "data": {
            "image/png": "[encoded data removed]",
            "text/plain": [
              "<Figure size 432x288 with 1 Axes>"
            ]
          },
          "metadata": {
            "needs_background": "light"
          }
        }
      ]
    },
    {
      "cell_type": "code",
      "metadata": {
        "colab": {
          "base_uri": "https://localhost:8080/",
          "height": 283
        },
        "id": "7uOt5g8NHs64",
        "outputId": "c6deba5e-de2f-4109-e483-a95474fff0bf"
      },
      "source": [
        "plt.scatter(Europe['mp_price'], Europe['adm0_name'])"
      ],
      "execution_count": null,
      "outputs": [
        {
          "output_type": "execute_result",
          "data": {
            "text/plain": [
              "<matplotlib.collections.PathCollection at 0x7fd774bafc90>"
            ]
          },
          "metadata": {},
          "execution_count": 54
        },
        {
          "output_type": "display_data",
          "data": {
            "image/png": "[encoded data removed]",
            "text/plain": [
              "<Figure size 432x288 with 1 Axes>"
            ]
          },
          "metadata": {
            "needs_background": "light"
          }
        }
      ]
    },
    {
      "cell_type": "code",
      "metadata": {
        "id": "B4wgSof2SeGr",
        "colab": {
          "base_uri": "https://localhost:8080/",
          "height": 422
        },
        "outputId": "e033a627-3eb1-4f0a-efbc-0c109be995a7"
      },
      "source": [
        "#India = df[df['Country'] == 'India']\n",
        "\n",
        "India = df.loc[(df['adm0_name'] == 'India')  & (df['mkt_name'] == 'Agartala') & (df['cm_name'] == 'Rice') ]\n",
        "\n",
        "India"
      ],
      "execution_count": null,
      "outputs": [
        {
          "output_type": "execute_result",
          "data": {
            "text/html": [
              "<div>\n",
              "<style scoped>\n",
              "    .dataframe tbody tr th:only-of-type {\n",
              "        vertical-align: middle;\n",
              "    }\n",
              "\n",
              "    .dataframe tbody tr th {\n",
              "        vertical-align: top;\n",
              "    }\n",
              "\n",
              "    .dataframe thead th {\n",
              "        text-align: right;\n",
              "    }\n",
              "</style>\n",
              "<table border=\"1\" class=\"dataframe\">\n",
              "  <thead>\n",
              "    <tr style=\"text-align: right;\">\n",
              "      <th></th>\n",
              "      <th>adm0_name</th>\n",
              "      <th>mkt_name</th>\n",
              "      <th>cm_name</th>\n",
              "      <th>mp_month</th>\n",
              "      <th>mp_year</th>\n",
              "      <th>mp_price</th>\n",
              "      <th>Country</th>\n",
              "      <th>Region</th>\n",
              "    </tr>\n",
              "  </thead>\n",
              "  <tbody>\n",
              "    <tr>\n",
              "      <th>123440</th>\n",
              "      <td>India</td>\n",
              "      <td>Agartala</td>\n",
              "      <td>Rice</td>\n",
              "      <td>January</td>\n",
              "      <td>1996</td>\n",
              "      <td>8.00</td>\n",
              "      <td>India</td>\n",
              "      <td>Asia &amp; Pacific</td>\n",
              "    </tr>\n",
              "    <tr>\n",
              "      <th>123441</th>\n",
              "      <td>India</td>\n",
              "      <td>Agartala</td>\n",
              "      <td>Rice</td>\n",
              "      <td>March</td>\n",
              "      <td>1996</td>\n",
              "      <td>8.50</td>\n",
              "      <td>India</td>\n",
              "      <td>Asia &amp; Pacific</td>\n",
              "    </tr>\n",
              "    <tr>\n",
              "      <th>123442</th>\n",
              "      <td>India</td>\n",
              "      <td>Agartala</td>\n",
              "      <td>Rice</td>\n",
              "      <td>April</td>\n",
              "      <td>1996</td>\n",
              "      <td>8.75</td>\n",
              "      <td>India</td>\n",
              "      <td>Asia &amp; Pacific</td>\n",
              "    </tr>\n",
              "    <tr>\n",
              "      <th>123443</th>\n",
              "      <td>India</td>\n",
              "      <td>Agartala</td>\n",
              "      <td>Rice</td>\n",
              "      <td>June</td>\n",
              "      <td>1996</td>\n",
              "      <td>8.75</td>\n",
              "      <td>India</td>\n",
              "      <td>Asia &amp; Pacific</td>\n",
              "    </tr>\n",
              "    <tr>\n",
              "      <th>123444</th>\n",
              "      <td>India</td>\n",
              "      <td>Agartala</td>\n",
              "      <td>Rice</td>\n",
              "      <td>July</td>\n",
              "      <td>1996</td>\n",
              "      <td>8.50</td>\n",
              "      <td>India</td>\n",
              "      <td>Asia &amp; Pacific</td>\n",
              "    </tr>\n",
              "    <tr>\n",
              "      <th>...</th>\n",
              "      <td>...</td>\n",
              "      <td>...</td>\n",
              "      <td>...</td>\n",
              "      <td>...</td>\n",
              "      <td>...</td>\n",
              "      <td>...</td>\n",
              "      <td>...</td>\n",
              "      <td>...</td>\n",
              "    </tr>\n",
              "    <tr>\n",
              "      <th>123683</th>\n",
              "      <td>India</td>\n",
              "      <td>Agartala</td>\n",
              "      <td>Rice</td>\n",
              "      <td>February</td>\n",
              "      <td>2017</td>\n",
              "      <td>28.94</td>\n",
              "      <td>India</td>\n",
              "      <td>Asia &amp; Pacific</td>\n",
              "    </tr>\n",
              "    <tr>\n",
              "      <th>123684</th>\n",
              "      <td>India</td>\n",
              "      <td>Agartala</td>\n",
              "      <td>Rice</td>\n",
              "      <td>March</td>\n",
              "      <td>2017</td>\n",
              "      <td>29.00</td>\n",
              "      <td>India</td>\n",
              "      <td>Asia &amp; Pacific</td>\n",
              "    </tr>\n",
              "    <tr>\n",
              "      <th>123685</th>\n",
              "      <td>India</td>\n",
              "      <td>Agartala</td>\n",
              "      <td>Rice</td>\n",
              "      <td>April</td>\n",
              "      <td>2017</td>\n",
              "      <td>30.25</td>\n",
              "      <td>India</td>\n",
              "      <td>Asia &amp; Pacific</td>\n",
              "    </tr>\n",
              "    <tr>\n",
              "      <th>123686</th>\n",
              "      <td>India</td>\n",
              "      <td>Agartala</td>\n",
              "      <td>Rice</td>\n",
              "      <td>June</td>\n",
              "      <td>2017</td>\n",
              "      <td>31.00</td>\n",
              "      <td>India</td>\n",
              "      <td>Asia &amp; Pacific</td>\n",
              "    </tr>\n",
              "    <tr>\n",
              "      <th>123687</th>\n",
              "      <td>India</td>\n",
              "      <td>Agartala</td>\n",
              "      <td>Rice</td>\n",
              "      <td>July</td>\n",
              "      <td>2017</td>\n",
              "      <td>31.00</td>\n",
              "      <td>India</td>\n",
              "      <td>Asia &amp; Pacific</td>\n",
              "    </tr>\n",
              "  </tbody>\n",
              "</table>\n",
              "<p>248 rows × 8 columns</p>\n",
              "</div>"
            ],
            "text/plain": [
              "       adm0_name  mkt_name cm_name  ... mp_price  Country           Region\n",
              "123440     India  Agartala    Rice  ...     8.00    India   Asia & Pacific\n",
              "123441     India  Agartala    Rice  ...     8.50    India   Asia & Pacific\n",
              "123442     India  Agartala    Rice  ...     8.75    India   Asia & Pacific\n",
              "123443     India  Agartala    Rice  ...     8.75    India   Asia & Pacific\n",
              "123444     India  Agartala    Rice  ...     8.50    India   Asia & Pacific\n",
              "...          ...       ...     ...  ...      ...      ...              ...\n",
              "123683     India  Agartala    Rice  ...    28.94    India   Asia & Pacific\n",
              "123684     India  Agartala    Rice  ...    29.00    India   Asia & Pacific\n",
              "123685     India  Agartala    Rice  ...    30.25    India   Asia & Pacific\n",
              "123686     India  Agartala    Rice  ...    31.00    India   Asia & Pacific\n",
              "123687     India  Agartala    Rice  ...    31.00    India   Asia & Pacific\n",
              "\n",
              "[248 rows x 8 columns]"
            ]
          },
          "metadata": {},
          "execution_count": 36
        }
      ]
    },
    {
      "cell_type": "code",
      "metadata": {
        "id": "FU-8kBcejwtI",
        "colab": {
          "base_uri": "https://localhost:8080/",
          "height": 265
        },
        "outputId": "bd7b632c-696b-4eb9-8e96-3a16ceb7e8cf"
      },
      "source": [
        "time = India['mp_year']\n",
        "cost = India['mp_price']\n",
        "\n",
        "plt.plot(time,cost)\n",
        "plt.show()"
      ],
      "execution_count": null,
      "outputs": [
        {
          "output_type": "display_data",
          "data": {
            "image/png": "[encoded data removed]",
            "text/plain": [
              "<Figure size 432x288 with 1 Axes>"
            ]
          },
          "metadata": {
            "needs_background": "light"
          }
        }
      ]
    },
    {
      "cell_type": "code",
      "metadata": {
        "id": "R-yRRCrgt0pS",
        "colab": {
          "base_uri": "https://localhost:8080/",
          "height": 283
        },
        "outputId": "92f0e9c8-885c-462b-8cb0-6c1f1bdd29fb"
      },
      "source": [
        "plt.scatter(India['mp_year'], India['mp_price'])"
      ],
      "execution_count": null,
      "outputs": [
        {
          "output_type": "execute_result",
          "data": {
            "text/plain": [
              "<matplotlib.collections.PathCollection at 0x7ff1f4c57410>"
            ]
          },
          "metadata": {},
          "execution_count": 38
        },
        {
          "output_type": "display_data",
          "data": {
            "image/png": "[encoded data removed]",
            "text/plain": [
              "<Figure size 432x288 with 1 Axes>"
            ]
          },
          "metadata": {
            "needs_background": "light"
          }
        }
      ]
    },
    {
      "cell_type": "code",
      "metadata": {
        "id": "5eEm2qesiNLs",
        "colab": {
          "base_uri": "https://localhost:8080/",
          "height": 299
        },
        "outputId": "a542c0e6-ed7c-4747-8973-71e510a7b52b"
      },
      "source": [
        "India.describe()"
      ],
      "execution_count": null,
      "outputs": [
        {
          "output_type": "execute_result",
          "data": {
            "text/html": [
              "<div>\n",
              "<style scoped>\n",
              "    .dataframe tbody tr th:only-of-type {\n",
              "        vertical-align: middle;\n",
              "    }\n",
              "\n",
              "    .dataframe tbody tr th {\n",
              "        vertical-align: top;\n",
              "    }\n",
              "\n",
              "    .dataframe thead th {\n",
              "        text-align: right;\n",
              "    }\n",
              "</style>\n",
              "<table border=\"1\" class=\"dataframe\">\n",
              "  <thead>\n",
              "    <tr style=\"text-align: right;\">\n",
              "      <th></th>\n",
              "      <th>mp_year</th>\n",
              "      <th>mp_price</th>\n",
              "    </tr>\n",
              "  </thead>\n",
              "  <tbody>\n",
              "    <tr>\n",
              "      <th>count</th>\n",
              "      <td>248.000000</td>\n",
              "      <td>248.000000</td>\n",
              "    </tr>\n",
              "    <tr>\n",
              "      <th>mean</th>\n",
              "      <td>2006.447581</td>\n",
              "      <td>15.969234</td>\n",
              "    </tr>\n",
              "    <tr>\n",
              "      <th>std</th>\n",
              "      <td>6.231472</td>\n",
              "      <td>6.999458</td>\n",
              "    </tr>\n",
              "    <tr>\n",
              "      <th>min</th>\n",
              "      <td>1996.000000</td>\n",
              "      <td>8.000000</td>\n",
              "    </tr>\n",
              "    <tr>\n",
              "      <th>25%</th>\n",
              "      <td>2001.000000</td>\n",
              "      <td>11.000000</td>\n",
              "    </tr>\n",
              "    <tr>\n",
              "      <th>50%</th>\n",
              "      <td>2007.000000</td>\n",
              "      <td>13.000000</td>\n",
              "    </tr>\n",
              "    <tr>\n",
              "      <th>75%</th>\n",
              "      <td>2012.000000</td>\n",
              "      <td>19.000000</td>\n",
              "    </tr>\n",
              "    <tr>\n",
              "      <th>max</th>\n",
              "      <td>2017.000000</td>\n",
              "      <td>33.000000</td>\n",
              "    </tr>\n",
              "  </tbody>\n",
              "</table>\n",
              "</div>"
            ],
            "text/plain": [
              "           mp_year    mp_price\n",
              "count   248.000000  248.000000\n",
              "mean   2006.447581   15.969234\n",
              "std       6.231472    6.999458\n",
              "min    1996.000000    8.000000\n",
              "25%    2001.000000   11.000000\n",
              "50%    2007.000000   13.000000\n",
              "75%    2012.000000   19.000000\n",
              "max    2017.000000   33.000000"
            ]
          },
          "metadata": {},
          "execution_count": 39
        }
      ]
    }
  ]
}